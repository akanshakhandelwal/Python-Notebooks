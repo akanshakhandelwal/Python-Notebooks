{
  "nbformat": 4,
  "nbformat_minor": 5,
  "metadata": {
    "kernelspec": {
      "display_name": "Python 3",
      "language": "python",
      "name": "python3"
    },
    "language_info": {
      "codemirror_mode": {
        "name": "ipython",
        "version": 3
      },
      "file_extension": ".py",
      "mimetype": "text/x-python",
      "name": "python",
      "nbconvert_exporter": "python",
      "pygments_lexer": "ipython3",
      "version": "3.8.8"
    },
    "colab": {
      "name": "MapFilterReduce.ipynb",
      "provenance": []
    }
  },
  "cells": [
    {
      "cell_type": "markdown",
      "metadata": {
        "id": "947d69d0"
      },
      "source": [
        "### MAP"
      ],
      "id": "947d69d0"
    },
    {
      "cell_type": "markdown",
      "metadata": {
        "id": "1e401ad0"
      },
      "source": [
        "Display Full Names"
      ],
      "id": "1e401ad0"
    },
    {
      "cell_type": "code",
      "metadata": {
        "id": "577ebb85"
      },
      "source": [
        "first_name = [\"Keith\", \"Elizabeth\",\"Alex\",\"William\"]\n",
        "last_name = [\"Philip\",\"Brown\",\"Smith\",\"Oliver\"]"
      ],
      "id": "577ebb85",
      "execution_count": null,
      "outputs": []
    },
    {
      "cell_type": "code",
      "metadata": {
        "id": "b56ea2ca",
        "outputId": "a8f17bab-42f0-40d1-acd7-6a4c2c41880a"
      },
      "source": [
        "name = list(map(lambda x, y:x+ \" \"+y, first_name, last_name))\n",
        "name"
      ],
      "id": "b56ea2ca",
      "execution_count": null,
      "outputs": [
        {
          "data": {
            "text/plain": [
              "['Keith Philip', 'Elizabeth Brown', 'Alex Smith', 'William Oliver']"
            ]
          },
          "execution_count": 3,
          "metadata": {},
          "output_type": "execute_result"
        }
      ]
    },
    {
      "cell_type": "markdown",
      "metadata": {
        "id": "370e08ec"
      },
      "source": [
        "Find cube of numbers in a list"
      ],
      "id": "370e08ec"
    },
    {
      "cell_type": "code",
      "metadata": {
        "id": "dcd8bf4c"
      },
      "source": [
        "def cube(x):\n",
        "    return x**3"
      ],
      "id": "dcd8bf4c",
      "execution_count": null,
      "outputs": []
    },
    {
      "cell_type": "code",
      "metadata": {
        "id": "3ecad778"
      },
      "source": [
        "arr_num = [1,3,5,7,9]\n",
        "cube_values = list(map(cube,arr_num))"
      ],
      "id": "3ecad778",
      "execution_count": null,
      "outputs": []
    },
    {
      "cell_type": "code",
      "metadata": {
        "id": "19704914",
        "outputId": "31ad6e68-e66f-4ba0-ffc7-75c498b9bdc2"
      },
      "source": [
        "print(cube_values)"
      ],
      "id": "19704914",
      "execution_count": null,
      "outputs": [
        {
          "name": "stdout",
          "output_type": "stream",
          "text": [
            "[1, 27, 125, 343, 729]\n"
          ]
        }
      ]
    },
    {
      "cell_type": "markdown",
      "metadata": {
        "id": "ca9ea84e"
      },
      "source": [
        "Area of circle using map function\n"
      ],
      "id": "ca9ea84e"
    },
    {
      "cell_type": "code",
      "metadata": {
        "id": "135e7d7d"
      },
      "source": [
        "import time"
      ],
      "id": "135e7d7d",
      "execution_count": null,
      "outputs": []
    },
    {
      "cell_type": "code",
      "metadata": {
        "id": "3c4baf12"
      },
      "source": [
        "radius = [3,5,8,10,12]"
      ],
      "id": "3c4baf12",
      "execution_count": null,
      "outputs": []
    },
    {
      "cell_type": "code",
      "metadata": {
        "id": "7ccb3645",
        "outputId": "6ac39e5a-2824-4a30-a43a-806585ac1f8e"
      },
      "source": [
        "t0 = time.time()\n",
        "area = list(map(lambda x:3.14*x**2,radius))\n",
        "print(area)\n",
        "t1 = time.time()"
      ],
      "id": "7ccb3645",
      "execution_count": null,
      "outputs": [
        {
          "name": "stdout",
          "output_type": "stream",
          "text": [
            "[28.26, 78.5, 200.96, 314.0, 452.16]\n"
          ]
        }
      ]
    },
    {
      "cell_type": "code",
      "metadata": {
        "id": "501c5496",
        "outputId": "7a4db03d-57cf-4933-8efa-22e647c94dcf"
      },
      "source": [
        "print(t1-t0)"
      ],
      "id": "501c5496",
      "execution_count": null,
      "outputs": [
        {
          "name": "stdout",
          "output_type": "stream",
          "text": [
            "0.00026416778564453125\n"
          ]
        }
      ]
    },
    {
      "cell_type": "markdown",
      "metadata": {
        "id": "c487e5ea"
      },
      "source": [
        "Area of circle using for loop"
      ],
      "id": "c487e5ea"
    },
    {
      "cell_type": "code",
      "metadata": {
        "id": "88a8d08c",
        "outputId": "564d38ba-b914-48b3-bb1e-3ce94651db36"
      },
      "source": [
        "t0 = time.time()\n",
        "area=[]\n",
        "for r in radius:\n",
        "    area.append(3.14*r*r)\n",
        "print(area)\n",
        "t1 = time.time()"
      ],
      "id": "88a8d08c",
      "execution_count": null,
      "outputs": [
        {
          "name": "stdout",
          "output_type": "stream",
          "text": [
            "[28.259999999999998, 78.5, 200.96, 314.0, 452.15999999999997]\n"
          ]
        }
      ]
    },
    {
      "cell_type": "code",
      "metadata": {
        "id": "f787715f",
        "outputId": "63677f71-7e4f-40e9-f854-e86b366d375b"
      },
      "source": [
        "print(t1-t0)"
      ],
      "id": "f787715f",
      "execution_count": null,
      "outputs": [
        {
          "name": "stdout",
          "output_type": "stream",
          "text": [
            "0.0002779960632324219\n"
          ]
        }
      ]
    },
    {
      "cell_type": "markdown",
      "metadata": {
        "id": "c3a4a709"
      },
      "source": [
        "### FILTER"
      ],
      "id": "c3a4a709"
    },
    {
      "cell_type": "markdown",
      "metadata": {
        "id": "1fdd56d7"
      },
      "source": [
        "Filter employees whose first name ends with 'h'"
      ],
      "id": "1fdd56d7"
    },
    {
      "cell_type": "code",
      "metadata": {
        "id": "55a1cf91"
      },
      "source": [
        "names = list(filter(lambda x: ( x[-1]=='h'),first_name))"
      ],
      "id": "55a1cf91",
      "execution_count": null,
      "outputs": []
    },
    {
      "cell_type": "code",
      "metadata": {
        "id": "facffa24",
        "outputId": "172f218e-690b-42ce-c08a-6b19190eea8a"
      },
      "source": [
        "names"
      ],
      "id": "facffa24",
      "execution_count": null,
      "outputs": [
        {
          "data": {
            "text/plain": [
              "['Keith', 'Elizabeth']"
            ]
          },
          "execution_count": 18,
          "metadata": {},
          "output_type": "execute_result"
        }
      ]
    },
    {
      "cell_type": "markdown",
      "metadata": {
        "id": "b4f5ea7f"
      },
      "source": [
        "### REDUCE"
      ],
      "id": "b4f5ea7f"
    },
    {
      "cell_type": "markdown",
      "metadata": {
        "id": "a6a32f8c"
      },
      "source": [
        "Find the largest number"
      ],
      "id": "a6a32f8c"
    },
    {
      "cell_type": "code",
      "metadata": {
        "id": "c8e534e9"
      },
      "source": [
        "from functools import reduce"
      ],
      "id": "c8e534e9",
      "execution_count": null,
      "outputs": []
    },
    {
      "cell_type": "code",
      "metadata": {
        "id": "0fdc2835"
      },
      "source": [
        "arr_num = [110,569, 784, 377, 900, 126]"
      ],
      "id": "0fdc2835",
      "execution_count": null,
      "outputs": []
    },
    {
      "cell_type": "code",
      "metadata": {
        "id": "565013de",
        "outputId": "9a4c7f44-368f-4e21-c719-3bb6ee968534"
      },
      "source": [
        "largest_num = reduce(lambda x,y: x if x>y else y,arr_num)\n",
        "\n",
        "print(largest_num)"
      ],
      "id": "565013de",
      "execution_count": null,
      "outputs": [
        {
          "name": "stdout",
          "output_type": "stream",
          "text": [
            "900\n"
          ]
        }
      ]
    },
    {
      "cell_type": "code",
      "metadata": {
        "id": "7b8b08c9"
      },
      "source": [
        ""
      ],
      "id": "7b8b08c9",
      "execution_count": null,
      "outputs": []
    }
  ]
}