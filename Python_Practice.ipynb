{
  "nbformat": 4,
  "nbformat_minor": 0,
  "metadata": {
    "colab": {
      "name": "Python Practice.ipynb",
      "provenance": [],
      "authorship_tag": "ABX9TyOlWYisdiMWGN4qdzn1Hen3"
    },
    "kernelspec": {
      "name": "python3",
      "display_name": "Python 3"
    },
    "language_info": {
      "name": "python"
    }
  },
  "cells": [
    {
      "cell_type": "markdown",
      "metadata": {
        "id": "4l38_w7iS7zG"
      },
      "source": [
        "Description\n",
        "\n",
        "Given a positive integer 'n' less than or equal to 26, you are required to print the below pattern \n",
        " \n",
        "Sample Input: 5 \n",
        " \n",
        "Sample Output : <br>\n",
        "--------e-------- <br>\n",
        "------e-d-e------ <br>\n",
        "----e-d-c-d-e---- <br>\n",
        "--e-d-c-b-c-d-e-- <br>\n",
        "e-d-c-b-a-b-c-d-e <br>\n",
        "--e-d-c-b-c-d-e-- <br>\n",
        "----e-d-c-d-e---- <br>\n",
        "------e-d-e------ <br>\n",
        "--------e-------- <br>"
      ]
    },
    {
      "cell_type": "code",
      "metadata": {
        "colab": {
          "base_uri": "https://localhost:8080/"
        },
        "id": "YQd6oBrJwq2k",
        "outputId": "d1c55580-d7b7-4cec-831c-fd3606bab301"
      },
      "source": [
        "n=int(input())\n",
        "#Getting the characters in a list for eg ['a','b','c']\n",
        "chars = []\n",
        "for i in range(n):\n",
        "    chars.append(chr(97+i))\n",
        "#Reversing the char list as in pattern it shows reversed ['c', 'b','a']\n",
        "chars= chars[::-1]\n",
        "items = list(range(n)) # creating a list [0,1,2]\n",
        "items = items[:-1]+items[::-1] # creating a list [0,1,2,1,0] since for 3 there are 5 lines and c b a b c, center element appears only once hence :-1 to exclude last item\n",
        "for j in items:\n",
        "  print(\"--\"*(n-j-1),end=\"\")# prints --\n",
        "  if j == 0:\n",
        "    print(\"-\".join(chars[:j+1]),end=\"\")\n",
        "  else:\n",
        "    print(\"-\".join(chars[:j+1]),end=\"-\") # prints chars by joining with \"-\"\n",
        "  rev = chars[:j]\n",
        "  rev= rev[::-1]# prints reversed chars by joining with \"-\"\n",
        "  print(\"-\".join(rev),end=\"\")\n",
        "  if(j<n-1):\n",
        "    print(\"--\"*(n-j-1))\n",
        "  else:\n",
        "    print(\"\")"
      ],
      "execution_count": 62,
      "outputs": [
        {
          "output_type": "stream",
          "text": [
            "--------e--------\n",
            "------e-d-e------\n",
            "----e-d-c-d-e----\n",
            "--e-d-c-b-c-d-e--\n",
            "e-d-c-b-a-b-c-d-e\n",
            "--e-d-c-b-c-d-e--\n",
            "----e-d-c-d-e----\n",
            "------e-d-e------\n",
            "--------e--------\n"
          ],
          "name": "stdout"
        }
      ]
    },
    {
      "cell_type": "markdown",
      "metadata": {
        "id": "P9NXWZWzS5ld"
      },
      "source": [
        "\n",
        "Write Python code to determine whether an entered three digit number is an Armstrong number or not. <br>\n",
        "Assume that the number entered will strictly be a three digit number.<br>\n",
        "Print \"True\" if it is an Armstrong number and print \"False\" if it is not.<br>\n",
        "Sample Input:<br>\n",
        "153<br>\n",
        "Sample Output:<br>\n",
        "True<br>"
      ]
    },
    {
      "cell_type": "code",
      "metadata": {
        "id": "ATQ6x-ekwurN"
      },
      "source": [
        "#Armstrong Number\n",
        "n=int(input())\n",
        "list_n = [int(i) for i in str(n)]\n",
        "output= 0;\n",
        "for num in list_n:\n",
        "    output+=num**len(list_n)\n",
        "if(output == n):\n",
        "    print(True)\n",
        "else:\n",
        "    print(False)"
      ],
      "execution_count": null,
      "outputs": []
    },
    {
      "cell_type": "markdown",
      "metadata": {
        "id": "xIdw-3NITWMs"
      },
      "source": [
        "Compute and display Fibonacci series upto n terms where n is a positive integer entered by the user.<br>\n",
        "You can go here to read about Fibonacci series.<br>\n",
        "Sample Input:<br>\n",
        "5<br>\n",
        "Sample Output:<br>\n",
        "0<br>\n",
        "1<br>\n",
        "1<br>\n",
        "2<br>\n",
        "3<br>"
      ]
    },
    {
      "cell_type": "code",
      "metadata": {
        "colab": {
          "base_uri": "https://localhost:8080/"
        },
        "id": "jGZiacp6sEDa",
        "outputId": "4628e087-ba55-41d8-a482-ea40b73a88c1"
      },
      "source": [
        "#Compute and display Fibonacci series upto n terms where n is a positive integer entered by the user.\n",
        "n=int(input())\n",
        "#write your code here\n",
        "series = [0,1]\n",
        "if(n>1):\n",
        "    for i in range(2,n):\n",
        "        series.append(series[i-2]+series[i-1])\n",
        "\n",
        "for i in range(n):\n",
        "    print(series[i])"
      ],
      "execution_count": 70,
      "outputs": [
        {
          "output_type": "stream",
          "text": [
            "5\n",
            "0\n",
            "1\n",
            "1\n",
            "2\n",
            "3\n"
          ],
          "name": "stdout"
        }
      ]
    },
    {
      "cell_type": "markdown",
      "metadata": {
        "id": "ZP_kP2G1TeJo"
      },
      "source": [
        "Write python code to find the sum of prime numbers from 2 to n where n is a positive integer entered by the user.<br>"
      ]
    },
    {
      "cell_type": "code",
      "metadata": {
        "colab": {
          "base_uri": "https://localhost:8080/"
        },
        "id": "al6CY18L6wL7",
        "outputId": "164e6355-8e93-4f9b-f0e9-9a22f47526fd"
      },
      "source": [
        "n=int(input())\n",
        "primenum =[]\n",
        "for i in range(2,n+1):\n",
        "  flag  = 0\n",
        "  for j in range(2,i):\n",
        "    if i%j == 0:\n",
        "      flag = 1\n",
        "      break\n",
        "  if(flag == 0):\n",
        "      primenum.append(i)\n",
        "if(len(primenum) > 0 ):\n",
        "  print(sum(primenum))\n",
        "\n"
      ],
      "execution_count": 69,
      "outputs": [
        {
          "output_type": "stream",
          "text": [
            "5\n",
            "10\n"
          ],
          "name": "stdout"
        }
      ]
    },
    {
      "cell_type": "markdown",
      "metadata": {
        "id": "51SwHrEldu5m"
      },
      "source": [
        " Sanjay has m rupees, each chocolate costs c rupees, shopkeeper will give away k chocolates for w wrappers. Can you find now how many chocolates Sanjay will be able to eat?\n",
        "\n",
        "\n"
      ]
    },
    {
      "cell_type": "code",
      "metadata": {
        "colab": {
          "base_uri": "https://localhost:8080/"
        },
        "id": "1t7r5UasbGFg",
        "outputId": "63f475a1-16d9-41cc-e66a-200be278f568"
      },
      "source": [
        "import ast\n",
        "input_str = input()\n",
        "input_list = ast.literal_eval(input_str)\n",
        "m = int(input_list[0])  # money\n",
        "c = int(input_list[1])  # chocolates\n",
        "n = int(input_list[2])  # wrappers to exchange\n",
        "k = int(input_list[3])  # how many chocolates one gets for exchanging 'n' wrappers\n",
        "\n",
        "choc = m//c        # how many chocolate one can buy initially out of total money 'm', given the price of chocolate 'c'\n",
        "w = m//c           # same will be the number of wrappers initially     \n",
        "\n",
        "while (w//n!=0):\n",
        "  wrap = (w//n)*k\n",
        "  choc = choc + wrap\n",
        "  w = wrap + w%n\n",
        "\n",
        "print(choc)"
      ],
      "execution_count": 72,
      "outputs": [
        {
          "output_type": "stream",
          "text": [
            "15,2,3,2\n",
            "17\n"
          ],
          "name": "stdout"
        }
      ]
    }
  ]
}