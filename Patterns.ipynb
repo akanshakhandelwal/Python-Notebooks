{
  "nbformat": 4,
  "nbformat_minor": 0,
  "metadata": {
    "colab": {
      "name": "Patterns.ipynb",
      "provenance": [],
      "authorship_tag": "ABX9TyOLuwaERYPsNP8+al64zelC",
      "include_colab_link": true
    },
    "kernelspec": {
      "name": "python3",
      "display_name": "Python 3"
    },
    "language_info": {
      "name": "python"
    }
  },
  "cells": [
    {
      "cell_type": "markdown",
      "metadata": {
        "id": "view-in-github",
        "colab_type": "text"
      },
      "source": [
        "<a href=\"https://colab.research.google.com/github/akanshakhandelwal/Python-Notebooks/blob/main/Patterns.ipynb\" target=\"_parent\"><img src=\"https://colab.research.google.com/assets/colab-badge.svg\" alt=\"Open In Colab\"/></a>"
      ]
    },
    {
      "cell_type": "code",
      "metadata": {
        "colab": {
          "base_uri": "https://localhost:8080/"
        },
        "id": "b3uG76zZWt35",
        "outputId": "554f800c-c9f0-4ebd-9030-a44f7f0b8959"
      },
      "source": [
        "n=9\n",
        "for i in range(1,n+1):\n",
        "  for j in range(i):\n",
        "    print(i, end=\" \")\n",
        "  print(\"\")\n"
      ],
      "execution_count": 4,
      "outputs": [
        {
          "output_type": "stream",
          "text": [
            "1 \n",
            "2 2 \n",
            "3 3 3 \n",
            "4 4 4 4 \n",
            "5 5 5 5 5 \n",
            "6 6 6 6 6 6 \n",
            "7 7 7 7 7 7 7 \n",
            "8 8 8 8 8 8 8 8 \n",
            "9 9 9 9 9 9 9 9 9 \n"
          ],
          "name": "stdout"
        }
      ]
    },
    {
      "cell_type": "code",
      "metadata": {
        "colab": {
          "base_uri": "https://localhost:8080/"
        },
        "id": "N7uuvYyzYynU",
        "outputId": "310cc3ac-a616-49a4-b026-ff51bd047ae4"
      },
      "source": [
        "n=9\n",
        "for i in reversed(range(1,n+1)):\n",
        "  for j in range(i):\n",
        "    print(i, end=\" \")\n",
        "  print(\"\")"
      ],
      "execution_count": 7,
      "outputs": [
        {
          "output_type": "stream",
          "text": [
            "9 9 9 9 9 9 9 9 9 \n",
            "8 8 8 8 8 8 8 8 \n",
            "7 7 7 7 7 7 7 \n",
            "6 6 6 6 6 6 \n",
            "5 5 5 5 5 \n",
            "4 4 4 4 \n",
            "3 3 3 \n",
            "2 2 \n",
            "1 \n"
          ],
          "name": "stdout"
        }
      ]
    },
    {
      "cell_type": "code",
      "metadata": {
        "colab": {
          "base_uri": "https://localhost:8080/"
        },
        "id": "7hnbo9QZdu2E",
        "outputId": "df295fcb-bea2-4b07-bcbc-2268a295ce47"
      },
      "source": [
        "n=9\n",
        "for i in range(1,n+1):\n",
        "  for j in range(1,i+1):\n",
        "    print(j, end=\" \")\n",
        "  print(\"\")"
      ],
      "execution_count": 8,
      "outputs": [
        {
          "output_type": "stream",
          "text": [
            "1 \n",
            "1 2 \n",
            "1 2 3 \n",
            "1 2 3 4 \n",
            "1 2 3 4 5 \n",
            "1 2 3 4 5 6 \n",
            "1 2 3 4 5 6 7 \n",
            "1 2 3 4 5 6 7 8 \n",
            "1 2 3 4 5 6 7 8 9 \n"
          ],
          "name": "stdout"
        }
      ]
    },
    {
      "cell_type": "code",
      "metadata": {
        "colab": {
          "base_uri": "https://localhost:8080/"
        },
        "id": "uuJL0ZoDYk_D",
        "outputId": "ff91b9dd-7928-4650-ac58-cfa119bc39ca"
      },
      "source": [
        "n=10\n",
        "chars =[]\n",
        "for i in range(n):\n",
        "  chars.append(chr(97+i))\n",
        "chars = chars [::-1]\n",
        "items = list(range(n))\n",
        "items = items[:-1]+items[::-1]\n",
        "for i in items:\n",
        "  print(\"--\"*(n-i-1),end=\"\")\n",
        "  if i == 0:\n",
        "    print(\"-\".join(chars[:i+1]),end=\"\")\n",
        "  else:\n",
        "    print(\"-\".join(chars[:i+1]),end=\"-\")\n",
        "  rev = chars[:i]\n",
        "  rev= rev[::-1]\n",
        "  print(\"-\".join(rev),end=\"\")\n",
        "  if(i<n-1):\n",
        "    print(\"--\"*(n-i-1))\n",
        "  else:\n",
        "    print(\"\")"
      ],
      "execution_count": 14,
      "outputs": [
        {
          "output_type": "stream",
          "text": [
            "------------------j------------------\n",
            "----------------j-i-j----------------\n",
            "--------------j-i-h-i-j--------------\n",
            "------------j-i-h-g-h-i-j------------\n",
            "----------j-i-h-g-f-g-h-i-j----------\n",
            "--------j-i-h-g-f-e-f-g-h-i-j--------\n",
            "------j-i-h-g-f-e-d-e-f-g-h-i-j------\n",
            "----j-i-h-g-f-e-d-c-d-e-f-g-h-i-j----\n",
            "--j-i-h-g-f-e-d-c-b-c-d-e-f-g-h-i-j--\n",
            "j-i-h-g-f-e-d-c-b-a-b-c-d-e-f-g-h-i-j\n",
            "--j-i-h-g-f-e-d-c-b-c-d-e-f-g-h-i-j--\n",
            "----j-i-h-g-f-e-d-c-d-e-f-g-h-i-j----\n",
            "------j-i-h-g-f-e-d-e-f-g-h-i-j------\n",
            "--------j-i-h-g-f-e-f-g-h-i-j--------\n",
            "----------j-i-h-g-f-g-h-i-j----------\n",
            "------------j-i-h-g-h-i-j------------\n",
            "--------------j-i-h-i-j--------------\n",
            "----------------j-i-j----------------\n",
            "------------------j------------------\n"
          ],
          "name": "stdout"
        }
      ]
    },
    {
      "cell_type": "code",
      "metadata": {
        "colab": {
          "base_uri": "https://localhost:8080/"
        },
        "id": "41YJHMH_MHJf",
        "outputId": "6459255f-030f-40c6-e7a2-0405fb449ce8"
      },
      "source": [
        "pascals = [1,1]\n",
        "n=int(input())\n",
        "if(n==1):\n",
        "    print([1])\n",
        "elif(n==2):\n",
        "    print(pascals)\n",
        "else:\n",
        "    print(1)\n",
        "    s = [str(i) for i in pascals]\n",
        "    print(\" \".join(s))\n",
        "    for i in range(2,n):\n",
        "      row=[1]\n",
        "      for i in range(1,len(pascals)):\n",
        "        row.append(pascals[i-1] +  pascals[i])\n",
        "      row.append(1)\n",
        "      pascals=row.copy()\n",
        "      s = [str(i) for i in pascals]\n",
        "      print(\" \".join(s))\n"
      ],
      "execution_count": 27,
      "outputs": [
        {
          "output_type": "stream",
          "text": [
            "10\n",
            "1\n",
            "1 1\n",
            "1 2 1\n",
            "1 3 3 1\n",
            "1 4 6 4 1\n",
            "1 5 10 10 5 1\n",
            "1 6 15 20 15 6 1\n",
            "1 7 21 35 35 21 7 1\n",
            "1 8 28 56 70 56 28 8 1\n",
            "1 9 36 84 126 126 84 36 9 1\n"
          ],
          "name": "stdout"
        }
      ]
    },
    {
      "cell_type": "code",
      "metadata": {
        "colab": {
          "base_uri": "https://localhost:8080/"
        },
        "id": "6vtt2dRpJ8oY",
        "outputId": "e17d7b25-5709-4b90-ad89-7bb5358d9462"
      },
      "source": [
        "import numpy as np\n",
        "arr = np.zeros((5,5),dtype=int)\n",
        "np.fill_diagonal(arr,1)\n",
        "np.fill_diagonal(np.flipud(arr),1)\n",
        "arr\n"
      ],
      "execution_count": 34,
      "outputs": [
        {
          "output_type": "execute_result",
          "data": {
            "text/plain": [
              "array([[1, 0, 0, 0, 1],\n",
              "       [0, 1, 0, 1, 0],\n",
              "       [0, 0, 1, 0, 0],\n",
              "       [0, 1, 0, 1, 0],\n",
              "       [1, 0, 0, 0, 1]])"
            ]
          },
          "metadata": {
            "tags": []
          },
          "execution_count": 34
        }
      ]
    },
    {
      "cell_type": "code",
      "metadata": {
        "colab": {
          "base_uri": "https://localhost:8080/"
        },
        "id": "RMOvMI1iXpbn",
        "outputId": "1f1593f5-18f9-4995-f2e0-ddd2e95db138"
      },
      "source": [
        "n = 10\n",
        "for i in reversed(range(n)):\n",
        "  print(\" \"*(i),end=\"\")\n",
        "  print(\"* \" * (n-i))"
      ],
      "execution_count": 41,
      "outputs": [
        {
          "output_type": "stream",
          "text": [
            "         * \n",
            "        * * \n",
            "       * * * \n",
            "      * * * * \n",
            "     * * * * * \n",
            "    * * * * * * \n",
            "   * * * * * * * \n",
            "  * * * * * * * * \n",
            " * * * * * * * * * \n",
            "* * * * * * * * * * \n"
          ],
          "name": "stdout"
        }
      ]
    }
  ]
}