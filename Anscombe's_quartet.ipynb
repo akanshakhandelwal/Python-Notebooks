{
  "nbformat": 4,
  "nbformat_minor": 5,
  "metadata": {
    "kernelspec": {
      "display_name": "Python 3",
      "language": "python",
      "name": "python3"
    },
    "language_info": {
      "codemirror_mode": {
        "name": "ipython",
        "version": 3
      },
      "file_extension": ".py",
      "mimetype": "text/x-python",
      "name": "python",
      "nbconvert_exporter": "python",
      "pygments_lexer": "ipython3",
      "version": "3.8.8"
    },
    "colab": {
      "name": "Anscombe's quartet.ipynb",
      "provenance": []
    }
  },
  "cells": [
    {
      "cell_type": "code",
      "metadata": {
        "id": "c639b678"
      },
      "source": [
        "import numpy as np\n",
        "import pandas as pd\n",
        "import matplotlib.pyplot as plt\n",
        "import seaborn as sns\n",
        "import warnings\n",
        "warnings.filterwarnings('ignore')"
      ],
      "id": "c639b678",
      "execution_count": 71,
      "outputs": []
    },
    {
      "cell_type": "code",
      "metadata": {
        "id": "ca25e96a"
      },
      "source": [
        "from sklearn.linear_model import LinearRegression\n",
        "from sklearn.metrics import r2_score"
      ],
      "id": "ca25e96a",
      "execution_count": 72,
      "outputs": []
    },
    {
      "cell_type": "markdown",
      "metadata": {
        "id": "a9a2dcb3"
      },
      "source": [
        "<b> Anscombe's quartlet have four datasets which have identical statiscal values yet appear very different when graphed<b>"
      ],
      "id": "a9a2dcb3"
    },
    {
      "cell_type": "markdown",
      "metadata": {
        "id": "40a3ba56"
      },
      "source": [
        "<b>Lets first check the statiscal values for the first dataset<b>"
      ],
      "id": "40a3ba56"
    },
    {
      "cell_type": "code",
      "metadata": {
        "id": "e977f29b",
        "colab": {
          "base_uri": "https://localhost:8080/",
          "height": 390
        },
        "outputId": "4a1982a2-514f-4658-ee91-9d905f0d894e"
      },
      "source": [
        "#Dataset 1\n",
        "\n",
        "x1 = [10.0,8.0,13.0,9.0,11.0,14.0,6.0,4.0,12.0,7.0,5.0]\n",
        "y1 = [8.04,6.95,7.58,8.81,8.33,9.96,7.24,4.26,10.84,4.82,5.68]\n",
        "\n",
        "df1 = pd.DataFrame(x1,columns =['x1'])\n",
        "df1['y1']=np.array(y1)\n",
        "df1"
      ],
      "id": "e977f29b",
      "execution_count": 73,
      "outputs": [
        {
          "output_type": "execute_result",
          "data": {
            "text/html": [
              "<div>\n",
              "<style scoped>\n",
              "    .dataframe tbody tr th:only-of-type {\n",
              "        vertical-align: middle;\n",
              "    }\n",
              "\n",
              "    .dataframe tbody tr th {\n",
              "        vertical-align: top;\n",
              "    }\n",
              "\n",
              "    .dataframe thead th {\n",
              "        text-align: right;\n",
              "    }\n",
              "</style>\n",
              "<table border=\"1\" class=\"dataframe\">\n",
              "  <thead>\n",
              "    <tr style=\"text-align: right;\">\n",
              "      <th></th>\n",
              "      <th>x1</th>\n",
              "      <th>y1</th>\n",
              "    </tr>\n",
              "  </thead>\n",
              "  <tbody>\n",
              "    <tr>\n",
              "      <th>0</th>\n",
              "      <td>10.0</td>\n",
              "      <td>8.04</td>\n",
              "    </tr>\n",
              "    <tr>\n",
              "      <th>1</th>\n",
              "      <td>8.0</td>\n",
              "      <td>6.95</td>\n",
              "    </tr>\n",
              "    <tr>\n",
              "      <th>2</th>\n",
              "      <td>13.0</td>\n",
              "      <td>7.58</td>\n",
              "    </tr>\n",
              "    <tr>\n",
              "      <th>3</th>\n",
              "      <td>9.0</td>\n",
              "      <td>8.81</td>\n",
              "    </tr>\n",
              "    <tr>\n",
              "      <th>4</th>\n",
              "      <td>11.0</td>\n",
              "      <td>8.33</td>\n",
              "    </tr>\n",
              "    <tr>\n",
              "      <th>5</th>\n",
              "      <td>14.0</td>\n",
              "      <td>9.96</td>\n",
              "    </tr>\n",
              "    <tr>\n",
              "      <th>6</th>\n",
              "      <td>6.0</td>\n",
              "      <td>7.24</td>\n",
              "    </tr>\n",
              "    <tr>\n",
              "      <th>7</th>\n",
              "      <td>4.0</td>\n",
              "      <td>4.26</td>\n",
              "    </tr>\n",
              "    <tr>\n",
              "      <th>8</th>\n",
              "      <td>12.0</td>\n",
              "      <td>10.84</td>\n",
              "    </tr>\n",
              "    <tr>\n",
              "      <th>9</th>\n",
              "      <td>7.0</td>\n",
              "      <td>4.82</td>\n",
              "    </tr>\n",
              "    <tr>\n",
              "      <th>10</th>\n",
              "      <td>5.0</td>\n",
              "      <td>5.68</td>\n",
              "    </tr>\n",
              "  </tbody>\n",
              "</table>\n",
              "</div>"
            ],
            "text/plain": [
              "      x1     y1\n",
              "0   10.0   8.04\n",
              "1    8.0   6.95\n",
              "2   13.0   7.58\n",
              "3    9.0   8.81\n",
              "4   11.0   8.33\n",
              "5   14.0   9.96\n",
              "6    6.0   7.24\n",
              "7    4.0   4.26\n",
              "8   12.0  10.84\n",
              "9    7.0   4.82\n",
              "10   5.0   5.68"
            ]
          },
          "metadata": {},
          "execution_count": 73
        }
      ]
    },
    {
      "cell_type": "code",
      "metadata": {
        "id": "39a6dd4c",
        "colab": {
          "base_uri": "https://localhost:8080/",
          "height": 297
        },
        "outputId": "6543cb12-a82d-48bc-8d1a-30c8a6cce452"
      },
      "source": [
        "#Checking the statistical summary\n",
        "\n",
        "df1.describe()"
      ],
      "id": "39a6dd4c",
      "execution_count": 74,
      "outputs": [
        {
          "output_type": "execute_result",
          "data": {
            "text/html": [
              "<div>\n",
              "<style scoped>\n",
              "    .dataframe tbody tr th:only-of-type {\n",
              "        vertical-align: middle;\n",
              "    }\n",
              "\n",
              "    .dataframe tbody tr th {\n",
              "        vertical-align: top;\n",
              "    }\n",
              "\n",
              "    .dataframe thead th {\n",
              "        text-align: right;\n",
              "    }\n",
              "</style>\n",
              "<table border=\"1\" class=\"dataframe\">\n",
              "  <thead>\n",
              "    <tr style=\"text-align: right;\">\n",
              "      <th></th>\n",
              "      <th>x1</th>\n",
              "      <th>y1</th>\n",
              "    </tr>\n",
              "  </thead>\n",
              "  <tbody>\n",
              "    <tr>\n",
              "      <th>count</th>\n",
              "      <td>11.000000</td>\n",
              "      <td>11.000000</td>\n",
              "    </tr>\n",
              "    <tr>\n",
              "      <th>mean</th>\n",
              "      <td>9.000000</td>\n",
              "      <td>7.500909</td>\n",
              "    </tr>\n",
              "    <tr>\n",
              "      <th>std</th>\n",
              "      <td>3.316625</td>\n",
              "      <td>2.031568</td>\n",
              "    </tr>\n",
              "    <tr>\n",
              "      <th>min</th>\n",
              "      <td>4.000000</td>\n",
              "      <td>4.260000</td>\n",
              "    </tr>\n",
              "    <tr>\n",
              "      <th>25%</th>\n",
              "      <td>6.500000</td>\n",
              "      <td>6.315000</td>\n",
              "    </tr>\n",
              "    <tr>\n",
              "      <th>50%</th>\n",
              "      <td>9.000000</td>\n",
              "      <td>7.580000</td>\n",
              "    </tr>\n",
              "    <tr>\n",
              "      <th>75%</th>\n",
              "      <td>11.500000</td>\n",
              "      <td>8.570000</td>\n",
              "    </tr>\n",
              "    <tr>\n",
              "      <th>max</th>\n",
              "      <td>14.000000</td>\n",
              "      <td>10.840000</td>\n",
              "    </tr>\n",
              "  </tbody>\n",
              "</table>\n",
              "</div>"
            ],
            "text/plain": [
              "              x1         y1\n",
              "count  11.000000  11.000000\n",
              "mean    9.000000   7.500909\n",
              "std     3.316625   2.031568\n",
              "min     4.000000   4.260000\n",
              "25%     6.500000   6.315000\n",
              "50%     9.000000   7.580000\n",
              "75%    11.500000   8.570000\n",
              "max    14.000000  10.840000"
            ]
          },
          "metadata": {},
          "execution_count": 74
        }
      ]
    },
    {
      "cell_type": "markdown",
      "metadata": {
        "id": "34c588c1"
      },
      "source": [
        "Mean of x is 9\n",
        "Mean of y is 7.5"
      ],
      "id": "34c588c1"
    },
    {
      "cell_type": "code",
      "metadata": {
        "id": "22209b9e",
        "colab": {
          "base_uri": "https://localhost:8080/",
          "height": 111
        },
        "outputId": "ef26d660-8aec-47bb-9036-7d2d76097d0e"
      },
      "source": [
        "#Checking the correlation\n",
        "\n",
        "df1.corr()"
      ],
      "id": "22209b9e",
      "execution_count": 75,
      "outputs": [
        {
          "output_type": "execute_result",
          "data": {
            "text/html": [
              "<div>\n",
              "<style scoped>\n",
              "    .dataframe tbody tr th:only-of-type {\n",
              "        vertical-align: middle;\n",
              "    }\n",
              "\n",
              "    .dataframe tbody tr th {\n",
              "        vertical-align: top;\n",
              "    }\n",
              "\n",
              "    .dataframe thead th {\n",
              "        text-align: right;\n",
              "    }\n",
              "</style>\n",
              "<table border=\"1\" class=\"dataframe\">\n",
              "  <thead>\n",
              "    <tr style=\"text-align: right;\">\n",
              "      <th></th>\n",
              "      <th>x1</th>\n",
              "      <th>y1</th>\n",
              "    </tr>\n",
              "  </thead>\n",
              "  <tbody>\n",
              "    <tr>\n",
              "      <th>x1</th>\n",
              "      <td>1.000000</td>\n",
              "      <td>0.816421</td>\n",
              "    </tr>\n",
              "    <tr>\n",
              "      <th>y1</th>\n",
              "      <td>0.816421</td>\n",
              "      <td>1.000000</td>\n",
              "    </tr>\n",
              "  </tbody>\n",
              "</table>\n",
              "</div>"
            ],
            "text/plain": [
              "          x1        y1\n",
              "x1  1.000000  0.816421\n",
              "y1  0.816421  1.000000"
            ]
          },
          "metadata": {},
          "execution_count": 75
        }
      ]
    },
    {
      "cell_type": "markdown",
      "metadata": {
        "id": "9aee7310"
      },
      "source": [
        "Correlation between x1 and y1 is .816"
      ],
      "id": "9aee7310"
    },
    {
      "cell_type": "code",
      "metadata": {
        "id": "068b3a17"
      },
      "source": [
        "#Reshaping values of x1 and y1\n",
        "\n",
        "x1 = df1.x1.values.reshape(-1,1)\n",
        "y1=df1.y1.values.reshape(-1,1)"
      ],
      "id": "068b3a17",
      "execution_count": 76,
      "outputs": []
    },
    {
      "cell_type": "code",
      "metadata": {
        "id": "1f80a073",
        "colab": {
          "base_uri": "https://localhost:8080/"
        },
        "outputId": "23b6beb5-ac09-43da-db1a-32e29d2d475b"
      },
      "source": [
        "#Linear Regression Line\n",
        "\n",
        "regressor = LinearRegression()\n",
        "regressor.fit(x1,y1) #training the algorithm\n",
        "\n",
        "#To retrieve the intercept:\n",
        "print(regressor.intercept_)\n",
        "\n",
        "#For retrieving the slope:\n",
        "print(regressor.coef_)"
      ],
      "id": "1f80a073",
      "execution_count": 77,
      "outputs": [
        {
          "output_type": "stream",
          "name": "stdout",
          "text": [
            "[3.00009091]\n",
            "[[0.50009091]]\n"
          ]
        }
      ]
    },
    {
      "cell_type": "markdown",
      "metadata": {
        "id": "77d13b7e"
      },
      "source": [
        "y1=3+0.5x1"
      ],
      "id": "77d13b7e"
    },
    {
      "cell_type": "code",
      "metadata": {
        "id": "335777be",
        "colab": {
          "base_uri": "https://localhost:8080/"
        },
        "outputId": "df2570c8-6819-42d7-ee15-f252f7e856c0"
      },
      "source": [
        "#Checking r2\n",
        "\n",
        "y1_pred = 3+0.5*x1\n",
        "\n",
        "r_squared = r2_score(y1, y1_pred)\n",
        "r_squared"
      ],
      "id": "335777be",
      "execution_count": 78,
      "outputs": [
        {
          "output_type": "execute_result",
          "data": {
            "text/plain": [
              "0.6665422172178126"
            ]
          },
          "metadata": {},
          "execution_count": 78
        }
      ]
    },
    {
      "cell_type": "markdown",
      "metadata": {
        "id": "e5fbb30d"
      },
      "source": [
        "R2 is 0.67"
      ],
      "id": "e5fbb30d"
    },
    {
      "cell_type": "markdown",
      "metadata": {
        "id": "90c90caf"
      },
      "source": [
        "In Summary statistical values for first dataset:<br><br>\n",
        "\n",
        "Mean of x1:9<br>\n",
        "Mean of y1 is 7.5<br>\n",
        "Linear regression line: y1=3.0+0.5x1<br>\n",
        "r2 = 0.67<br>"
      ],
      "id": "90c90caf"
    },
    {
      "cell_type": "markdown",
      "metadata": {
        "id": "13a806d0"
      },
      "source": [
        "<b>Now lets check for dataset 2<b>"
      ],
      "id": "13a806d0"
    },
    {
      "cell_type": "code",
      "metadata": {
        "id": "6d543220",
        "colab": {
          "base_uri": "https://localhost:8080/",
          "height": 390
        },
        "outputId": "59ef0f6c-4a63-4242-e92c-12356531a13e"
      },
      "source": [
        "#Dataset 2\n",
        "\n",
        "x2 = [10.0,8.0,13.0,9.0,11.0,14.0,6.0,4.0,12.0,7.0,5.0]\n",
        "y2 = [9.14,8.14,8.74,8.77,9.26,8.10,6.13,3.10,9.13,7.26,4.74]\n",
        "\n",
        "df2 = pd.DataFrame(x2,columns =['x2'])\n",
        "df2['y2']=np.array(y2)\n",
        "df2"
      ],
      "id": "6d543220",
      "execution_count": 79,
      "outputs": [
        {
          "output_type": "execute_result",
          "data": {
            "text/html": [
              "<div>\n",
              "<style scoped>\n",
              "    .dataframe tbody tr th:only-of-type {\n",
              "        vertical-align: middle;\n",
              "    }\n",
              "\n",
              "    .dataframe tbody tr th {\n",
              "        vertical-align: top;\n",
              "    }\n",
              "\n",
              "    .dataframe thead th {\n",
              "        text-align: right;\n",
              "    }\n",
              "</style>\n",
              "<table border=\"1\" class=\"dataframe\">\n",
              "  <thead>\n",
              "    <tr style=\"text-align: right;\">\n",
              "      <th></th>\n",
              "      <th>x2</th>\n",
              "      <th>y2</th>\n",
              "    </tr>\n",
              "  </thead>\n",
              "  <tbody>\n",
              "    <tr>\n",
              "      <th>0</th>\n",
              "      <td>10.0</td>\n",
              "      <td>9.14</td>\n",
              "    </tr>\n",
              "    <tr>\n",
              "      <th>1</th>\n",
              "      <td>8.0</td>\n",
              "      <td>8.14</td>\n",
              "    </tr>\n",
              "    <tr>\n",
              "      <th>2</th>\n",
              "      <td>13.0</td>\n",
              "      <td>8.74</td>\n",
              "    </tr>\n",
              "    <tr>\n",
              "      <th>3</th>\n",
              "      <td>9.0</td>\n",
              "      <td>8.77</td>\n",
              "    </tr>\n",
              "    <tr>\n",
              "      <th>4</th>\n",
              "      <td>11.0</td>\n",
              "      <td>9.26</td>\n",
              "    </tr>\n",
              "    <tr>\n",
              "      <th>5</th>\n",
              "      <td>14.0</td>\n",
              "      <td>8.10</td>\n",
              "    </tr>\n",
              "    <tr>\n",
              "      <th>6</th>\n",
              "      <td>6.0</td>\n",
              "      <td>6.13</td>\n",
              "    </tr>\n",
              "    <tr>\n",
              "      <th>7</th>\n",
              "      <td>4.0</td>\n",
              "      <td>3.10</td>\n",
              "    </tr>\n",
              "    <tr>\n",
              "      <th>8</th>\n",
              "      <td>12.0</td>\n",
              "      <td>9.13</td>\n",
              "    </tr>\n",
              "    <tr>\n",
              "      <th>9</th>\n",
              "      <td>7.0</td>\n",
              "      <td>7.26</td>\n",
              "    </tr>\n",
              "    <tr>\n",
              "      <th>10</th>\n",
              "      <td>5.0</td>\n",
              "      <td>4.74</td>\n",
              "    </tr>\n",
              "  </tbody>\n",
              "</table>\n",
              "</div>"
            ],
            "text/plain": [
              "      x2    y2\n",
              "0   10.0  9.14\n",
              "1    8.0  8.14\n",
              "2   13.0  8.74\n",
              "3    9.0  8.77\n",
              "4   11.0  9.26\n",
              "5   14.0  8.10\n",
              "6    6.0  6.13\n",
              "7    4.0  3.10\n",
              "8   12.0  9.13\n",
              "9    7.0  7.26\n",
              "10   5.0  4.74"
            ]
          },
          "metadata": {},
          "execution_count": 79
        }
      ]
    },
    {
      "cell_type": "code",
      "metadata": {
        "id": "6bee9ff5",
        "colab": {
          "base_uri": "https://localhost:8080/",
          "height": 297
        },
        "outputId": "ae553204-f87d-4d20-8aa5-21316a8e4629"
      },
      "source": [
        "#Checking the statistical summary\n",
        "\n",
        "df2.describe()"
      ],
      "id": "6bee9ff5",
      "execution_count": 80,
      "outputs": [
        {
          "output_type": "execute_result",
          "data": {
            "text/html": [
              "<div>\n",
              "<style scoped>\n",
              "    .dataframe tbody tr th:only-of-type {\n",
              "        vertical-align: middle;\n",
              "    }\n",
              "\n",
              "    .dataframe tbody tr th {\n",
              "        vertical-align: top;\n",
              "    }\n",
              "\n",
              "    .dataframe thead th {\n",
              "        text-align: right;\n",
              "    }\n",
              "</style>\n",
              "<table border=\"1\" class=\"dataframe\">\n",
              "  <thead>\n",
              "    <tr style=\"text-align: right;\">\n",
              "      <th></th>\n",
              "      <th>x2</th>\n",
              "      <th>y2</th>\n",
              "    </tr>\n",
              "  </thead>\n",
              "  <tbody>\n",
              "    <tr>\n",
              "      <th>count</th>\n",
              "      <td>11.000000</td>\n",
              "      <td>11.000000</td>\n",
              "    </tr>\n",
              "    <tr>\n",
              "      <th>mean</th>\n",
              "      <td>9.000000</td>\n",
              "      <td>7.500909</td>\n",
              "    </tr>\n",
              "    <tr>\n",
              "      <th>std</th>\n",
              "      <td>3.316625</td>\n",
              "      <td>2.031657</td>\n",
              "    </tr>\n",
              "    <tr>\n",
              "      <th>min</th>\n",
              "      <td>4.000000</td>\n",
              "      <td>3.100000</td>\n",
              "    </tr>\n",
              "    <tr>\n",
              "      <th>25%</th>\n",
              "      <td>6.500000</td>\n",
              "      <td>6.695000</td>\n",
              "    </tr>\n",
              "    <tr>\n",
              "      <th>50%</th>\n",
              "      <td>9.000000</td>\n",
              "      <td>8.140000</td>\n",
              "    </tr>\n",
              "    <tr>\n",
              "      <th>75%</th>\n",
              "      <td>11.500000</td>\n",
              "      <td>8.950000</td>\n",
              "    </tr>\n",
              "    <tr>\n",
              "      <th>max</th>\n",
              "      <td>14.000000</td>\n",
              "      <td>9.260000</td>\n",
              "    </tr>\n",
              "  </tbody>\n",
              "</table>\n",
              "</div>"
            ],
            "text/plain": [
              "              x2         y2\n",
              "count  11.000000  11.000000\n",
              "mean    9.000000   7.500909\n",
              "std     3.316625   2.031657\n",
              "min     4.000000   3.100000\n",
              "25%     6.500000   6.695000\n",
              "50%     9.000000   8.140000\n",
              "75%    11.500000   8.950000\n",
              "max    14.000000   9.260000"
            ]
          },
          "metadata": {},
          "execution_count": 80
        }
      ]
    },
    {
      "cell_type": "code",
      "metadata": {
        "id": "26c85c2d",
        "colab": {
          "base_uri": "https://localhost:8080/",
          "height": 111
        },
        "outputId": "923031d9-dcd9-4b7b-fdcc-9230bea7d61e"
      },
      "source": [
        "#checking the correlation\n",
        "df2.corr()"
      ],
      "id": "26c85c2d",
      "execution_count": 81,
      "outputs": [
        {
          "output_type": "execute_result",
          "data": {
            "text/html": [
              "<div>\n",
              "<style scoped>\n",
              "    .dataframe tbody tr th:only-of-type {\n",
              "        vertical-align: middle;\n",
              "    }\n",
              "\n",
              "    .dataframe tbody tr th {\n",
              "        vertical-align: top;\n",
              "    }\n",
              "\n",
              "    .dataframe thead th {\n",
              "        text-align: right;\n",
              "    }\n",
              "</style>\n",
              "<table border=\"1\" class=\"dataframe\">\n",
              "  <thead>\n",
              "    <tr style=\"text-align: right;\">\n",
              "      <th></th>\n",
              "      <th>x2</th>\n",
              "      <th>y2</th>\n",
              "    </tr>\n",
              "  </thead>\n",
              "  <tbody>\n",
              "    <tr>\n",
              "      <th>x2</th>\n",
              "      <td>1.000000</td>\n",
              "      <td>0.816237</td>\n",
              "    </tr>\n",
              "    <tr>\n",
              "      <th>y2</th>\n",
              "      <td>0.816237</td>\n",
              "      <td>1.000000</td>\n",
              "    </tr>\n",
              "  </tbody>\n",
              "</table>\n",
              "</div>"
            ],
            "text/plain": [
              "          x2        y2\n",
              "x2  1.000000  0.816237\n",
              "y2  0.816237  1.000000"
            ]
          },
          "metadata": {},
          "execution_count": 81
        }
      ]
    },
    {
      "cell_type": "code",
      "metadata": {
        "id": "cb395069"
      },
      "source": [
        "#Reshaping the values of x2 and y2\n",
        "\n",
        "x2 = df2.x2.values.reshape(-1,1)\n",
        "y2=df2.y2.values.reshape(-1,1)"
      ],
      "id": "cb395069",
      "execution_count": 82,
      "outputs": []
    },
    {
      "cell_type": "code",
      "metadata": {
        "id": "7423cab9",
        "colab": {
          "base_uri": "https://localhost:8080/"
        },
        "outputId": "8fc3ddf8-f745-430a-ad60-8b361d8fdc4b"
      },
      "source": [
        "#Linear Regression Line\n",
        "\n",
        "regressor = LinearRegression()\n",
        "regressor.fit(x2,y2) #training the algorithm\n",
        "\n",
        "#To retrieve the intercept:\n",
        "print(regressor.intercept_)\n",
        "\n",
        "#For retrieving the slope:\n",
        "print(regressor.coef_)"
      ],
      "id": "7423cab9",
      "execution_count": 83,
      "outputs": [
        {
          "output_type": "stream",
          "name": "stdout",
          "text": [
            "[3.00090909]\n",
            "[[0.5]]\n"
          ]
        }
      ]
    },
    {
      "cell_type": "markdown",
      "metadata": {
        "id": "2c28df3a"
      },
      "source": [
        "y2=3.0+0.5x2"
      ],
      "id": "2c28df3a"
    },
    {
      "cell_type": "code",
      "metadata": {
        "id": "a88cf4a8",
        "colab": {
          "base_uri": "https://localhost:8080/"
        },
        "outputId": "52b55c15-9fd1-433d-f7bf-ec224511cc4b"
      },
      "source": [
        "#Checking R2\n",
        "y2_pred = 3+0.5*x2\n",
        "\n",
        "r_squared = r2_score(y2, y2_pred)\n",
        "r_squared"
      ],
      "id": "a88cf4a8",
      "execution_count": 84,
      "outputs": [
        {
          "output_type": "execute_result",
          "data": {
            "text/plain": [
              "0.6662418134821839"
            ]
          },
          "metadata": {},
          "execution_count": 84
        }
      ]
    },
    {
      "cell_type": "markdown",
      "metadata": {
        "id": "b8311a58"
      },
      "source": [
        "In Summary statistical values for second dataset:<br><br>\n",
        "\n",
        "Mean of x2:9<br>\n",
        "Mean of y2 is 7.5<br>\n",
        "Linear regression line: y2=3.0+0.5x2<br>\n",
        "r2 = 0.67<br><br>\n",
        "\n",
        "<b>Note: These are same as the values which we obtained for first dataset<b>"
      ],
      "id": "b8311a58"
    },
    {
      "cell_type": "markdown",
      "metadata": {
        "id": "ce2773da"
      },
      "source": [
        "<b> Now lets check for dataset 3<b>"
      ],
      "id": "ce2773da"
    },
    {
      "cell_type": "code",
      "metadata": {
        "id": "bd1acf29",
        "colab": {
          "base_uri": "https://localhost:8080/",
          "height": 390
        },
        "outputId": "31eb74c5-6720-4692-e029-47a632eeb57e"
      },
      "source": [
        "#Dataset 3\n",
        "\n",
        "x3 = [10.0,8.0,13.0,9.0,11.0,14.0,6.0,4.0,12.0,7.0,5.0]\n",
        "y3 = [7.46,6.77,12.74,7.11,7.81,8.84,6.08,5.39,8.15,6.42,5.73]\n",
        "\n",
        "df3 = pd.DataFrame(x3,columns =['x3'])\n",
        "df3['y3']=np.array(y3)\n",
        "df3"
      ],
      "id": "bd1acf29",
      "execution_count": 85,
      "outputs": [
        {
          "output_type": "execute_result",
          "data": {
            "text/html": [
              "<div>\n",
              "<style scoped>\n",
              "    .dataframe tbody tr th:only-of-type {\n",
              "        vertical-align: middle;\n",
              "    }\n",
              "\n",
              "    .dataframe tbody tr th {\n",
              "        vertical-align: top;\n",
              "    }\n",
              "\n",
              "    .dataframe thead th {\n",
              "        text-align: right;\n",
              "    }\n",
              "</style>\n",
              "<table border=\"1\" class=\"dataframe\">\n",
              "  <thead>\n",
              "    <tr style=\"text-align: right;\">\n",
              "      <th></th>\n",
              "      <th>x3</th>\n",
              "      <th>y3</th>\n",
              "    </tr>\n",
              "  </thead>\n",
              "  <tbody>\n",
              "    <tr>\n",
              "      <th>0</th>\n",
              "      <td>10.0</td>\n",
              "      <td>7.46</td>\n",
              "    </tr>\n",
              "    <tr>\n",
              "      <th>1</th>\n",
              "      <td>8.0</td>\n",
              "      <td>6.77</td>\n",
              "    </tr>\n",
              "    <tr>\n",
              "      <th>2</th>\n",
              "      <td>13.0</td>\n",
              "      <td>12.74</td>\n",
              "    </tr>\n",
              "    <tr>\n",
              "      <th>3</th>\n",
              "      <td>9.0</td>\n",
              "      <td>7.11</td>\n",
              "    </tr>\n",
              "    <tr>\n",
              "      <th>4</th>\n",
              "      <td>11.0</td>\n",
              "      <td>7.81</td>\n",
              "    </tr>\n",
              "    <tr>\n",
              "      <th>5</th>\n",
              "      <td>14.0</td>\n",
              "      <td>8.84</td>\n",
              "    </tr>\n",
              "    <tr>\n",
              "      <th>6</th>\n",
              "      <td>6.0</td>\n",
              "      <td>6.08</td>\n",
              "    </tr>\n",
              "    <tr>\n",
              "      <th>7</th>\n",
              "      <td>4.0</td>\n",
              "      <td>5.39</td>\n",
              "    </tr>\n",
              "    <tr>\n",
              "      <th>8</th>\n",
              "      <td>12.0</td>\n",
              "      <td>8.15</td>\n",
              "    </tr>\n",
              "    <tr>\n",
              "      <th>9</th>\n",
              "      <td>7.0</td>\n",
              "      <td>6.42</td>\n",
              "    </tr>\n",
              "    <tr>\n",
              "      <th>10</th>\n",
              "      <td>5.0</td>\n",
              "      <td>5.73</td>\n",
              "    </tr>\n",
              "  </tbody>\n",
              "</table>\n",
              "</div>"
            ],
            "text/plain": [
              "      x3     y3\n",
              "0   10.0   7.46\n",
              "1    8.0   6.77\n",
              "2   13.0  12.74\n",
              "3    9.0   7.11\n",
              "4   11.0   7.81\n",
              "5   14.0   8.84\n",
              "6    6.0   6.08\n",
              "7    4.0   5.39\n",
              "8   12.0   8.15\n",
              "9    7.0   6.42\n",
              "10   5.0   5.73"
            ]
          },
          "metadata": {},
          "execution_count": 85
        }
      ]
    },
    {
      "cell_type": "code",
      "metadata": {
        "id": "24ef8e23",
        "colab": {
          "base_uri": "https://localhost:8080/",
          "height": 297
        },
        "outputId": "338f857b-69e1-4fe9-dc38-a3814e4545b9"
      },
      "source": [
        "#Checking the statistical summary\n",
        "df3.describe()"
      ],
      "id": "24ef8e23",
      "execution_count": 86,
      "outputs": [
        {
          "output_type": "execute_result",
          "data": {
            "text/html": [
              "<div>\n",
              "<style scoped>\n",
              "    .dataframe tbody tr th:only-of-type {\n",
              "        vertical-align: middle;\n",
              "    }\n",
              "\n",
              "    .dataframe tbody tr th {\n",
              "        vertical-align: top;\n",
              "    }\n",
              "\n",
              "    .dataframe thead th {\n",
              "        text-align: right;\n",
              "    }\n",
              "</style>\n",
              "<table border=\"1\" class=\"dataframe\">\n",
              "  <thead>\n",
              "    <tr style=\"text-align: right;\">\n",
              "      <th></th>\n",
              "      <th>x3</th>\n",
              "      <th>y3</th>\n",
              "    </tr>\n",
              "  </thead>\n",
              "  <tbody>\n",
              "    <tr>\n",
              "      <th>count</th>\n",
              "      <td>11.000000</td>\n",
              "      <td>11.000000</td>\n",
              "    </tr>\n",
              "    <tr>\n",
              "      <th>mean</th>\n",
              "      <td>9.000000</td>\n",
              "      <td>7.500000</td>\n",
              "    </tr>\n",
              "    <tr>\n",
              "      <th>std</th>\n",
              "      <td>3.316625</td>\n",
              "      <td>2.030424</td>\n",
              "    </tr>\n",
              "    <tr>\n",
              "      <th>min</th>\n",
              "      <td>4.000000</td>\n",
              "      <td>5.390000</td>\n",
              "    </tr>\n",
              "    <tr>\n",
              "      <th>25%</th>\n",
              "      <td>6.500000</td>\n",
              "      <td>6.250000</td>\n",
              "    </tr>\n",
              "    <tr>\n",
              "      <th>50%</th>\n",
              "      <td>9.000000</td>\n",
              "      <td>7.110000</td>\n",
              "    </tr>\n",
              "    <tr>\n",
              "      <th>75%</th>\n",
              "      <td>11.500000</td>\n",
              "      <td>7.980000</td>\n",
              "    </tr>\n",
              "    <tr>\n",
              "      <th>max</th>\n",
              "      <td>14.000000</td>\n",
              "      <td>12.740000</td>\n",
              "    </tr>\n",
              "  </tbody>\n",
              "</table>\n",
              "</div>"
            ],
            "text/plain": [
              "              x3         y3\n",
              "count  11.000000  11.000000\n",
              "mean    9.000000   7.500000\n",
              "std     3.316625   2.030424\n",
              "min     4.000000   5.390000\n",
              "25%     6.500000   6.250000\n",
              "50%     9.000000   7.110000\n",
              "75%    11.500000   7.980000\n",
              "max    14.000000  12.740000"
            ]
          },
          "metadata": {},
          "execution_count": 86
        }
      ]
    },
    {
      "cell_type": "code",
      "metadata": {
        "id": "3e021811",
        "colab": {
          "base_uri": "https://localhost:8080/",
          "height": 111
        },
        "outputId": "18b18091-cbae-4ce7-9adb-809408d0e01e"
      },
      "source": [
        "#Checking the correlation\n",
        "df3.corr()"
      ],
      "id": "3e021811",
      "execution_count": 87,
      "outputs": [
        {
          "output_type": "execute_result",
          "data": {
            "text/html": [
              "<div>\n",
              "<style scoped>\n",
              "    .dataframe tbody tr th:only-of-type {\n",
              "        vertical-align: middle;\n",
              "    }\n",
              "\n",
              "    .dataframe tbody tr th {\n",
              "        vertical-align: top;\n",
              "    }\n",
              "\n",
              "    .dataframe thead th {\n",
              "        text-align: right;\n",
              "    }\n",
              "</style>\n",
              "<table border=\"1\" class=\"dataframe\">\n",
              "  <thead>\n",
              "    <tr style=\"text-align: right;\">\n",
              "      <th></th>\n",
              "      <th>x3</th>\n",
              "      <th>y3</th>\n",
              "    </tr>\n",
              "  </thead>\n",
              "  <tbody>\n",
              "    <tr>\n",
              "      <th>x3</th>\n",
              "      <td>1.000000</td>\n",
              "      <td>0.816287</td>\n",
              "    </tr>\n",
              "    <tr>\n",
              "      <th>y3</th>\n",
              "      <td>0.816287</td>\n",
              "      <td>1.000000</td>\n",
              "    </tr>\n",
              "  </tbody>\n",
              "</table>\n",
              "</div>"
            ],
            "text/plain": [
              "          x3        y3\n",
              "x3  1.000000  0.816287\n",
              "y3  0.816287  1.000000"
            ]
          },
          "metadata": {},
          "execution_count": 87
        }
      ]
    },
    {
      "cell_type": "code",
      "metadata": {
        "id": "f870c658"
      },
      "source": [
        "#Reshaping the values of x3 and y3\n",
        "\n",
        "x3 = df3.x3.values.reshape(-1,1)\n",
        "y3=df3.y3.values.reshape(-1,1)"
      ],
      "id": "f870c658",
      "execution_count": 88,
      "outputs": []
    },
    {
      "cell_type": "code",
      "metadata": {
        "id": "f204ac38",
        "colab": {
          "base_uri": "https://localhost:8080/"
        },
        "outputId": "6529d996-66d2-4312-9238-2ba39ae214a9"
      },
      "source": [
        "#Linear Regression Line\n",
        "\n",
        "regressor = LinearRegression()\n",
        "regressor.fit(x3,y3) #training the algorithm\n",
        "\n",
        "#To retrieve the intercept:\n",
        "print(regressor.intercept_)\n",
        "\n",
        "#For retrieving the slope:\n",
        "print(regressor.coef_)"
      ],
      "id": "f204ac38",
      "execution_count": 89,
      "outputs": [
        {
          "output_type": "stream",
          "name": "stdout",
          "text": [
            "[3.00245455]\n",
            "[[0.49972727]]\n"
          ]
        }
      ]
    },
    {
      "cell_type": "markdown",
      "metadata": {
        "id": "94834c88"
      },
      "source": [
        "y3=3.0+0.5x3"
      ],
      "id": "94834c88"
    },
    {
      "cell_type": "code",
      "metadata": {
        "id": "db825d03",
        "colab": {
          "base_uri": "https://localhost:8080/"
        },
        "outputId": "0ab91d99-6c08-4743-a032-242eac275dcf"
      },
      "source": [
        "#Checking R2\n",
        "y3_pred = 3.0+0.5*x3\n",
        "\n",
        "r_squared = r2_score(y3, y3_pred)\n",
        "r_squared"
      ],
      "id": "db825d03",
      "execution_count": 90,
      "outputs": [
        {
          "output_type": "execute_result",
          "data": {
            "text/plain": [
              "0.6663238426049454"
            ]
          },
          "metadata": {},
          "execution_count": 90
        }
      ]
    },
    {
      "cell_type": "markdown",
      "metadata": {
        "id": "a461784b"
      },
      "source": [
        "In Summary statistical values for second dataset:<br><br>\n",
        "\n",
        "Mean of x2:9<br>\n",
        "Mean of y2 is 7.5<br>\n",
        "Linear regression line: y2=3.0+0.5x2<br>\n",
        "r2 = 0.67<br><br>\n",
        "\n",
        "<b>Note: These are same as the values which we obtained for first and second dataset<b>"
      ],
      "id": "a461784b"
    },
    {
      "cell_type": "markdown",
      "metadata": {
        "id": "0eb65771"
      },
      "source": [
        "<b>Now lets check for the fourth datset<b>"
      ],
      "id": "0eb65771"
    },
    {
      "cell_type": "code",
      "metadata": {
        "id": "fb207511",
        "colab": {
          "base_uri": "https://localhost:8080/",
          "height": 390
        },
        "outputId": "e46c7d78-04ed-49e3-e100-49ca9a876a59"
      },
      "source": [
        "x4 = [8.0,8.0,8.0,8.0,8.0,8.0,8.0,19.0,8.0,8.0,8.0]\n",
        "y4 = [6.58,5.76,7.71,8.84,8.47,7.04,5.25,12.50,5.56,7.91,6.89]\n",
        "\n",
        "df4 = pd.DataFrame(x4,columns =['x4'])\n",
        "df4['y4']=np.array(y4)\n",
        "df4"
      ],
      "id": "fb207511",
      "execution_count": 91,
      "outputs": [
        {
          "output_type": "execute_result",
          "data": {
            "text/html": [
              "<div>\n",
              "<style scoped>\n",
              "    .dataframe tbody tr th:only-of-type {\n",
              "        vertical-align: middle;\n",
              "    }\n",
              "\n",
              "    .dataframe tbody tr th {\n",
              "        vertical-align: top;\n",
              "    }\n",
              "\n",
              "    .dataframe thead th {\n",
              "        text-align: right;\n",
              "    }\n",
              "</style>\n",
              "<table border=\"1\" class=\"dataframe\">\n",
              "  <thead>\n",
              "    <tr style=\"text-align: right;\">\n",
              "      <th></th>\n",
              "      <th>x4</th>\n",
              "      <th>y4</th>\n",
              "    </tr>\n",
              "  </thead>\n",
              "  <tbody>\n",
              "    <tr>\n",
              "      <th>0</th>\n",
              "      <td>8.0</td>\n",
              "      <td>6.58</td>\n",
              "    </tr>\n",
              "    <tr>\n",
              "      <th>1</th>\n",
              "      <td>8.0</td>\n",
              "      <td>5.76</td>\n",
              "    </tr>\n",
              "    <tr>\n",
              "      <th>2</th>\n",
              "      <td>8.0</td>\n",
              "      <td>7.71</td>\n",
              "    </tr>\n",
              "    <tr>\n",
              "      <th>3</th>\n",
              "      <td>8.0</td>\n",
              "      <td>8.84</td>\n",
              "    </tr>\n",
              "    <tr>\n",
              "      <th>4</th>\n",
              "      <td>8.0</td>\n",
              "      <td>8.47</td>\n",
              "    </tr>\n",
              "    <tr>\n",
              "      <th>5</th>\n",
              "      <td>8.0</td>\n",
              "      <td>7.04</td>\n",
              "    </tr>\n",
              "    <tr>\n",
              "      <th>6</th>\n",
              "      <td>8.0</td>\n",
              "      <td>5.25</td>\n",
              "    </tr>\n",
              "    <tr>\n",
              "      <th>7</th>\n",
              "      <td>19.0</td>\n",
              "      <td>12.50</td>\n",
              "    </tr>\n",
              "    <tr>\n",
              "      <th>8</th>\n",
              "      <td>8.0</td>\n",
              "      <td>5.56</td>\n",
              "    </tr>\n",
              "    <tr>\n",
              "      <th>9</th>\n",
              "      <td>8.0</td>\n",
              "      <td>7.91</td>\n",
              "    </tr>\n",
              "    <tr>\n",
              "      <th>10</th>\n",
              "      <td>8.0</td>\n",
              "      <td>6.89</td>\n",
              "    </tr>\n",
              "  </tbody>\n",
              "</table>\n",
              "</div>"
            ],
            "text/plain": [
              "      x4     y4\n",
              "0    8.0   6.58\n",
              "1    8.0   5.76\n",
              "2    8.0   7.71\n",
              "3    8.0   8.84\n",
              "4    8.0   8.47\n",
              "5    8.0   7.04\n",
              "6    8.0   5.25\n",
              "7   19.0  12.50\n",
              "8    8.0   5.56\n",
              "9    8.0   7.91\n",
              "10   8.0   6.89"
            ]
          },
          "metadata": {},
          "execution_count": 91
        }
      ]
    },
    {
      "cell_type": "code",
      "metadata": {
        "id": "dbe3e53a",
        "colab": {
          "base_uri": "https://localhost:8080/",
          "height": 297
        },
        "outputId": "44daecc5-be74-4a7b-c20f-9e669c2a8e11"
      },
      "source": [
        "#Checking the statistical summary\n",
        "\n",
        "df4.describe()"
      ],
      "id": "dbe3e53a",
      "execution_count": 92,
      "outputs": [
        {
          "output_type": "execute_result",
          "data": {
            "text/html": [
              "<div>\n",
              "<style scoped>\n",
              "    .dataframe tbody tr th:only-of-type {\n",
              "        vertical-align: middle;\n",
              "    }\n",
              "\n",
              "    .dataframe tbody tr th {\n",
              "        vertical-align: top;\n",
              "    }\n",
              "\n",
              "    .dataframe thead th {\n",
              "        text-align: right;\n",
              "    }\n",
              "</style>\n",
              "<table border=\"1\" class=\"dataframe\">\n",
              "  <thead>\n",
              "    <tr style=\"text-align: right;\">\n",
              "      <th></th>\n",
              "      <th>x4</th>\n",
              "      <th>y4</th>\n",
              "    </tr>\n",
              "  </thead>\n",
              "  <tbody>\n",
              "    <tr>\n",
              "      <th>count</th>\n",
              "      <td>11.000000</td>\n",
              "      <td>11.000000</td>\n",
              "    </tr>\n",
              "    <tr>\n",
              "      <th>mean</th>\n",
              "      <td>9.000000</td>\n",
              "      <td>7.500909</td>\n",
              "    </tr>\n",
              "    <tr>\n",
              "      <th>std</th>\n",
              "      <td>3.316625</td>\n",
              "      <td>2.030579</td>\n",
              "    </tr>\n",
              "    <tr>\n",
              "      <th>min</th>\n",
              "      <td>8.000000</td>\n",
              "      <td>5.250000</td>\n",
              "    </tr>\n",
              "    <tr>\n",
              "      <th>25%</th>\n",
              "      <td>8.000000</td>\n",
              "      <td>6.170000</td>\n",
              "    </tr>\n",
              "    <tr>\n",
              "      <th>50%</th>\n",
              "      <td>8.000000</td>\n",
              "      <td>7.040000</td>\n",
              "    </tr>\n",
              "    <tr>\n",
              "      <th>75%</th>\n",
              "      <td>8.000000</td>\n",
              "      <td>8.190000</td>\n",
              "    </tr>\n",
              "    <tr>\n",
              "      <th>max</th>\n",
              "      <td>19.000000</td>\n",
              "      <td>12.500000</td>\n",
              "    </tr>\n",
              "  </tbody>\n",
              "</table>\n",
              "</div>"
            ],
            "text/plain": [
              "              x4         y4\n",
              "count  11.000000  11.000000\n",
              "mean    9.000000   7.500909\n",
              "std     3.316625   2.030579\n",
              "min     8.000000   5.250000\n",
              "25%     8.000000   6.170000\n",
              "50%     8.000000   7.040000\n",
              "75%     8.000000   8.190000\n",
              "max    19.000000  12.500000"
            ]
          },
          "metadata": {},
          "execution_count": 92
        }
      ]
    },
    {
      "cell_type": "code",
      "metadata": {
        "id": "17b9ce14",
        "colab": {
          "base_uri": "https://localhost:8080/",
          "height": 111
        },
        "outputId": "fba86d5f-c020-43f3-b52d-4b6933f3c4b1"
      },
      "source": [
        "#Checking the corrleation\n",
        "df4.corr()"
      ],
      "id": "17b9ce14",
      "execution_count": 93,
      "outputs": [
        {
          "output_type": "execute_result",
          "data": {
            "text/html": [
              "<div>\n",
              "<style scoped>\n",
              "    .dataframe tbody tr th:only-of-type {\n",
              "        vertical-align: middle;\n",
              "    }\n",
              "\n",
              "    .dataframe tbody tr th {\n",
              "        vertical-align: top;\n",
              "    }\n",
              "\n",
              "    .dataframe thead th {\n",
              "        text-align: right;\n",
              "    }\n",
              "</style>\n",
              "<table border=\"1\" class=\"dataframe\">\n",
              "  <thead>\n",
              "    <tr style=\"text-align: right;\">\n",
              "      <th></th>\n",
              "      <th>x4</th>\n",
              "      <th>y4</th>\n",
              "    </tr>\n",
              "  </thead>\n",
              "  <tbody>\n",
              "    <tr>\n",
              "      <th>x4</th>\n",
              "      <td>1.000000</td>\n",
              "      <td>0.816521</td>\n",
              "    </tr>\n",
              "    <tr>\n",
              "      <th>y4</th>\n",
              "      <td>0.816521</td>\n",
              "      <td>1.000000</td>\n",
              "    </tr>\n",
              "  </tbody>\n",
              "</table>\n",
              "</div>"
            ],
            "text/plain": [
              "          x4        y4\n",
              "x4  1.000000  0.816521\n",
              "y4  0.816521  1.000000"
            ]
          },
          "metadata": {},
          "execution_count": 93
        }
      ]
    },
    {
      "cell_type": "code",
      "metadata": {
        "id": "c4ffe4d2"
      },
      "source": [
        "#Reshaping the values of x4 and y4\n",
        "\n",
        "x4 = df4.x4.values.reshape(-1,1)\n",
        "y4=df4.y4.values.reshape(-1,1)"
      ],
      "id": "c4ffe4d2",
      "execution_count": 94,
      "outputs": []
    },
    {
      "cell_type": "code",
      "metadata": {
        "id": "ae30037e",
        "colab": {
          "base_uri": "https://localhost:8080/"
        },
        "outputId": "76047e38-b96b-4920-e498-b65a22ce2b78"
      },
      "source": [
        "#Linear Regression Line\n",
        "\n",
        "regressor = LinearRegression()\n",
        "regressor.fit(x4,y4) #training the algorithm\n",
        "\n",
        "#To retrieve the intercept:\n",
        "print(regressor.intercept_)\n",
        "\n",
        "#For retrieving the slope:\n",
        "print(regressor.coef_)"
      ],
      "id": "ae30037e",
      "execution_count": 95,
      "outputs": [
        {
          "output_type": "stream",
          "name": "stdout",
          "text": [
            "[3.00172727]\n",
            "[[0.49990909]]\n"
          ]
        }
      ]
    },
    {
      "cell_type": "markdown",
      "metadata": {
        "id": "caddf371"
      },
      "source": [
        "y4=3.0+0.5x4"
      ],
      "id": "caddf371"
    },
    {
      "cell_type": "code",
      "metadata": {
        "id": "531cb8f4",
        "colab": {
          "base_uri": "https://localhost:8080/"
        },
        "outputId": "45c265d4-e237-4872-b49c-e81c0ff60be1"
      },
      "source": [
        "#Checking R2\n",
        "y4_pred = 3.0+0.5*x4\n",
        "\n",
        "r_squared = r2_score(y4, y4_pred)\n",
        "r_squared"
      ],
      "id": "531cb8f4",
      "execution_count": 96,
      "outputs": [
        {
          "output_type": "execute_result",
          "data": {
            "text/plain": [
              "0.6667070143712791"
            ]
          },
          "metadata": {},
          "execution_count": 96
        }
      ]
    },
    {
      "cell_type": "markdown",
      "metadata": {
        "id": "fbd96336"
      },
      "source": [
        "In Summary statistical values for second dataset:<br><br>\n",
        "\n",
        "Mean of x2:9<br>\n",
        "Mean of y2 is 7.5<br>\n",
        "Linear regression line: y2=3.0+0.5x2<br>\n",
        "r2 = 0.67<br><br>\n",
        "\n",
        "<b>Note: These are same as the values which we obtained all the datasets<b>"
      ],
      "id": "fbd96336"
    },
    {
      "cell_type": "markdown",
      "metadata": {
        "id": "f930abf3"
      },
      "source": [
        "<b>Now lets plot the datsets<b>"
      ],
      "id": "f930abf3"
    },
    {
      "cell_type": "code",
      "metadata": {
        "id": "f53a6f10",
        "colab": {
          "base_uri": "https://localhost:8080/",
          "height": 607
        },
        "outputId": "5b166b97-831b-43b0-a898-7d25896d3361"
      },
      "source": [
        "sns.set_style('whitegrid')\n",
        "fig, axs = plt.subplots(2, 2,figsize=(12,10))\n",
        "axs[0,0].scatter(x=x1,y=y1)\n",
        "axs[0,0].plot(x1, 3.0 + 0.5 * x1, 'r')\n",
        "axs[0, 0].set_title('Dataset1')\n",
        "axs[0,1].scatter(x=x2,y=y2)\n",
        "axs[0,1].plot(x2, 3.0 + 0.5 * x2, 'r')\n",
        "axs[0,1].set_title('Dataset2')\n",
        "axs[1,0].scatter(x=x3,y=y3)\n",
        "axs[1,0].plot(x3, 3.0 + 0.5 * x3, 'r')\n",
        "axs[1, 0].set_title('Dataset3')\n",
        "axs[1,1].scatter(x=x4,y=y4)\n",
        "axs[1,1].plot(x4, 3.0 + 0.5 * x4, 'r')\n",
        "axs[1, 1].set_title('Dataset4')\n",
        "plt.show()\n",
        "\n",
        "for ax in axs.flat:\n",
        "    ax.set(xlabel='x', ylabel='y')\n",
        "\n",
        "# Hide x labels and tick labels for top plots and y ticks for right plots.\n",
        "for ax in axs.flat:\n",
        "    ax.label_outer()"
      ],
      "id": "f53a6f10",
      "execution_count": 105,
      "outputs": [
        {
          "output_type": "display_data",
          "data": {
            "image/png": "[encoded data removed]",
            "text/plain": [
              "<Figure size 864x720 with 4 Axes>"
            ]
          },
          "metadata": {}
        }
      ]
    },
    {
      "cell_type": "markdown",
      "metadata": {
        "id": "b2a81feb"
      },
      "source": [
        "Anscombe's quartlet explaines us that we should always graphically plot the data before analyzing the relationship.Statiscal summaries cannot tell us same story for all the datasets"
      ],
      "id": "b2a81feb"
    },
    {
      "cell_type": "code",
      "metadata": {
        "id": "311c697e"
      },
      "source": [
        ""
      ],
      "id": "311c697e",
      "execution_count": null,
      "outputs": []
    }
  ]
}